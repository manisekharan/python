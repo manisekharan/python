{
 "cells": [
  {
   "cell_type": "code",
   "execution_count": 1,
   "id": "750cae65",
   "metadata": {},
   "outputs": [
    {
     "name": "stdout",
     "output_type": "stream",
     "text": [
      "Welcome to Assignment-1\n"
     ]
    }
   ],
   "source": [
    "print('Welcome to Assignment-1')"
   ]
  },
  {
   "cell_type": "code",
   "execution_count": 2,
   "id": "d5910d07",
   "metadata": {},
   "outputs": [
    {
     "name": "stdout",
     "output_type": "stream",
     "text": [
      "Enter Num1 :20\n",
      "Num1= 20\n",
      "Enter Num2 :39\n",
      "Num1= 39\n",
      "Add= 59\n"
     ]
    }
   ],
   "source": [
    "Num1 = int(input('Enter Num1 :'))\n",
    "print('Num1=',Num1)\n",
    "Num2 = int(input('Enter Num2 :'))\n",
    "print('Num1=',Num2)\n",
    "Add = Num1+Num2\n",
    "print('Add=',Add)"
   ]
  },
  {
   "cell_type": "code",
   "execution_count": 3,
   "id": "0df747d0",
   "metadata": {},
   "outputs": [],
   "source": [
    " #Body Mass Index"
   ]
  },
  {
   "cell_type": "code",
   "execution_count": 7,
   "id": "074a2cfc",
   "metadata": {},
   "outputs": [
    {
     "name": "stdout",
     "output_type": "stream",
     "text": [
      "Enter the BMI Index:34\n",
      "Very Overweight\n"
     ]
    }
   ],
   "source": [
    "bmi_index=float(input('Enter the BMI Index:'))\n",
    "if bmi_index >= 1 and bmi_index < 18.5:\n",
    "    print('Under Weight')\n",
    "elif bmi_index >= 18.5 and bmi_index <= 24.9:\n",
    "    print('Normal Weight')\n",
    "elif bmi_index >= 25 and bmi_index <= 29.9:\n",
    "    print('Over Weight')\n",
    "elif bmi_index >= 30.0 and bmi_index <= 34.9:\n",
    "    print('Very Overweight')\n",
    "elif bmi_index >= 35.0 and bmi_index <= 39.9:\n",
    "    print('Extreme Overweight')\n",
    "elif bmi_index >= 40:\n",
    "    print('Extreme Overweight - Class 3')\n",
    "else:\n",
    "    print ('Please enter positive non-zero value')"
   ]
  }
 ],
 "metadata": {
  "kernelspec": {
   "display_name": "Python 3 (ipykernel)",
   "language": "python",
   "name": "python3"
  },
  "language_info": {
   "codemirror_mode": {
    "name": "ipython",
    "version": 3
   },
   "file_extension": ".py",
   "mimetype": "text/x-python",
   "name": "python",
   "nbconvert_exporter": "python",
   "pygments_lexer": "ipython3",
   "version": "3.11.5"
  }
 },
 "nbformat": 4,
 "nbformat_minor": 5
}

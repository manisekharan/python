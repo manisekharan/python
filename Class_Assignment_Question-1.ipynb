{
 "cells": [
  {
   "cell_type": "code",
   "execution_count": 1,
   "id": "f3e81f3e",
   "metadata": {},
   "outputs": [
    {
     "name": "stdout",
     "output_type": "stream",
     "text": [
      "Welcome to Assignment-1\n"
     ]
    }
   ],
   "source": [
    "print('Welcome to Assignment-1')"
   ]
  },
  {
   "cell_type": "code",
   "execution_count": 2,
   "id": "d7f29f72",
   "metadata": {},
   "outputs": [
    {
     "name": "stdout",
     "output_type": "stream",
     "text": [
      "Num1= 10\n",
      "Num1= 30\n",
      "Add= 40\n"
     ]
    }
   ],
   "source": [
    "Num1 = 10\n",
    "print('Num1=',Num1)\n",
    "Num2 = 30\n",
    "print('Num1=',Num2)\n",
    "Add = Num1+Num2\n",
    "print('Add=',Add)"
   ]
  },
  {
   "cell_type": "code",
   "execution_count": 3,
   "id": "6b1e1df4",
   "metadata": {},
   "outputs": [],
   "source": [
    " #Body Mass Index"
   ]
  },
  {
   "cell_type": "code",
   "execution_count": 5,
   "id": "74b87352",
   "metadata": {},
   "outputs": [
    {
     "name": "stdout",
     "output_type": "stream",
     "text": [
      "Enter the BMI Index:34\n",
      "Very Overweight\n"
     ]
    }
   ],
   "source": [
    "bmi_index=float(input('Enter the BMI Index:'))\n",
    "if bmi_index >= 1 and bmi_index < 18.5:\n",
    "    print('Under Weight')\n",
    "elif bmi_index >= 18.5 and bmi_index <= 24.9:\n",
    "    print('Normal Weight')\n",
    "elif bmi_index >= 25 and bmi_index <= 29.9:\n",
    "    print('Over Weight')\n",
    "elif bmi_index >= 30.0 and bmi_index <= 34.9:\n",
    "    print('Very Overweight')\n",
    "elif bmi_index >= 35.0 and bmi_index <= 39.9:\n",
    "    print('Very Overweight')\n",
    "elif bmi_index >= 40:\n",
    "    print('Extreme Overweight')\n",
    "else:\n",
    "    print ('Please enter positive non-zero value')"
   ]
  }
 ],
 "metadata": {
  "kernelspec": {
   "display_name": "Python 3 (ipykernel)",
   "language": "python",
   "name": "python3"
  },
  "language_info": {
   "codemirror_mode": {
    "name": "ipython",
    "version": 3
   },
   "file_extension": ".py",
   "mimetype": "text/x-python",
   "name": "python",
   "nbconvert_exporter": "python",
   "pygments_lexer": "ipython3",
   "version": "3.11.5"
  }
 },
 "nbformat": 4,
 "nbformat_minor": 5
}

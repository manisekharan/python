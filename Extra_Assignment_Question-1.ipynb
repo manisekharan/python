{
 "cells": [
  {
   "cell_type": "code",
   "execution_count": 1,
   "id": "b224fc5f",
   "metadata": {},
   "outputs": [
    {
     "name": "stdout",
     "output_type": "stream",
     "text": [
      "HOPE AI\n"
     ]
    }
   ],
   "source": [
    "#print Statement\n",
    "print('HOPE AI')"
   ]
  },
  {
   "cell_type": "code",
   "execution_count": 3,
   "id": "d69310bf",
   "metadata": {},
   "outputs": [
    {
     "name": "stdout",
     "output_type": "stream",
     "text": [
      "Enter your institute name? : Hope AI\n"
     ]
    },
    {
     "data": {
      "text/plain": [
       "'Hope AI'"
      ]
     },
     "execution_count": 3,
     "metadata": {},
     "output_type": "execute_result"
    }
   ],
   "source": [
    "# Buy input\n",
    "input('Enter your institute name? : ')"
   ]
  },
  {
   "cell_type": "code",
   "execution_count": 17,
   "id": "d7fb3be3",
   "metadata": {},
   "outputs": [
    {
     "name": "stdout",
     "output_type": "stream",
     "text": [
      "Enter your name: Raj\n",
      "Enter your age: 15\n",
      "Enter your school name: Guru School\n",
      "Enter your drgree: B.E CSE\n"
     ]
    },
    {
     "data": {
      "text/plain": [
       "'B.E CSE'"
      ]
     },
     "execution_count": 17,
     "metadata": {},
     "output_type": "execute_result"
    }
   ],
   "source": [
    "#Buy inputs\n",
    "input('Enter your name: ')\n",
    "int(input('Enter your age: '))\n",
    "input('Enter your school name: ')\n",
    "input('Enter your drgree: ')"
   ]
  },
  {
   "cell_type": "code",
   "execution_count": 18,
   "id": "39ac3f47",
   "metadata": {},
   "outputs": [
    {
     "name": "stdout",
     "output_type": "stream",
     "text": [
      "Enter value of a :43\n",
      "Enter value of b :34\n",
      "a= 43\n",
      "b= 34\n",
      "add = 77\n"
     ]
    }
   ],
   "source": [
    "#Addition\n",
    "a = int(input('Enter value of a :'))\n",
    "b = int(input('Enter value of b :'))\n",
    "print('a=',a)\n",
    "print('b=',b)\n",
    "print('add =', a+b)"
   ]
  },
  {
   "cell_type": "code",
   "execution_count": 19,
   "id": "eafec4bd",
   "metadata": {},
   "outputs": [
    {
     "name": "stdout",
     "output_type": "stream",
     "text": [
      "Enter value of a :43\n",
      "Enter value of b :34\n",
      "a= 43\n",
      "b= 34\n",
      "Sub = 9\n"
     ]
    }
   ],
   "source": [
    "#Subtraction\n",
    "a = int(input('Enter value of a :'))\n",
    "b = int(input('Enter value of b :'))\n",
    "print('a=',a)\n",
    "print('b=',b)\n",
    "print('Sub =', a-b)"
   ]
  },
  {
   "cell_type": "code",
   "execution_count": 21,
   "id": "9f2d0f1a",
   "metadata": {},
   "outputs": [
    {
     "name": "stdout",
     "output_type": "stream",
     "text": [
      "Enter value of a :63\n",
      "Enter value of b :97\n",
      "a= 63\n",
      "b= 97\n",
      "Mul = 6111\n"
     ]
    }
   ],
   "source": [
    "#Multiplication\n",
    "a = int(input('Enter value of a :'))\n",
    "b = int(input('Enter value of b :'))\n",
    "print('a=',a)\n",
    "print('b=',b)\n",
    "print('Mul =', a*b)"
   ]
  },
  {
   "cell_type": "code",
   "execution_count": 12,
   "id": "d165f47e",
   "metadata": {},
   "outputs": [
    {
     "name": "stdout",
     "output_type": "stream",
     "text": [
      "Enter value of a :76\n",
      "Enter value of b :31\n",
      "a= 76.0\n",
      "b= 31.0\n",
      "Float Div = 2.4516129032258065\n"
     ]
    }
   ],
   "source": [
    "#Division\n",
    "a = float(input('Enter value of a :'))\n",
    "b = float(input('Enter value of b :'))\n",
    "print('a=',a)\n",
    "print('b=',b)\n",
    "print('Float Div =', a/b)"
   ]
  },
  {
   "cell_type": "code",
   "execution_count": 22,
   "id": "183a0f55",
   "metadata": {},
   "outputs": [
    {
     "name": "stdout",
     "output_type": "stream",
     "text": [
      "Enter value of a :76\n",
      "Enter value of b :31\n",
      "a= 76\n",
      "b= 31\n",
      "Float Div = 2\n"
     ]
    }
   ],
   "source": [
    "#Floor division\n",
    "a = int(input('Enter value of a :'))\n",
    "b = int(input('Enter value of b :'))\n",
    "print('a=',a)\n",
    "print('b=',b)\n",
    "print('Float Div =', a//b)"
   ]
  },
  {
   "cell_type": "code",
   "execution_count": 15,
   "id": "fb18c2d7",
   "metadata": {},
   "outputs": [
    {
     "name": "stdout",
     "output_type": "stream",
     "text": [
      "Enter value of a :76\n",
      "Enter value of b :31\n",
      "a= 76\n",
      "b= 31\n",
      "Float Div = 14\n"
     ]
    }
   ],
   "source": [
    "#Modulo\n",
    "a = int(input('Enter value of a :'))\n",
    "b = int(input('Enter value of b :'))\n",
    "print('a=',a)\n",
    "print('b=',b)\n",
    "print('Float Div =', a%b)"
   ]
  },
  {
   "cell_type": "code",
   "execution_count": 16,
   "id": "968b4383",
   "metadata": {},
   "outputs": [
    {
     "name": "stdout",
     "output_type": "stream",
     "text": [
      "Enter value of a :4\n",
      "Enter value of b :4\n",
      "a= 4\n",
      "b= 4\n",
      "Float Div = 256\n"
     ]
    }
   ],
   "source": [
    "#Power\n",
    "a = int(input('Enter value of a :'))\n",
    "b = int(input('Enter value of b :'))\n",
    "print('a=',a)\n",
    "print('b=',b)\n",
    "print('Float Div =', a**b)"
   ]
  }
 ],
 "metadata": {
  "kernelspec": {
   "display_name": "Python 3 (ipykernel)",
   "language": "python",
   "name": "python3"
  },
  "language_info": {
   "codemirror_mode": {
    "name": "ipython",
    "version": 3
   },
   "file_extension": ".py",
   "mimetype": "text/x-python",
   "name": "python",
   "nbconvert_exporter": "python",
   "pygments_lexer": "ipython3",
   "version": "3.11.5"
  }
 },
 "nbformat": 4,
 "nbformat_minor": 5
}

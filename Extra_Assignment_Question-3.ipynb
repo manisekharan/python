{
 "cells": [
  {
   "cell_type": "code",
   "execution_count": 2,
   "id": "535bc72b",
   "metadata": {},
   "outputs": [
    {
     "name": "stdout",
     "output_type": "stream",
     "text": [
      "Enter a value10\n",
      "CORRECT\n"
     ]
    }
   ],
   "source": [
    "# print 'CORRECT' if i == 10\n",
    "i=int(input('Enter a value'))\n",
    "if(i==10):\n",
    "    print('CORRECT')"
   ]
  },
  {
   "cell_type": "code",
   "execution_count": 6,
   "id": "f872c7e2",
   "metadata": {},
   "outputs": [
    {
     "name": "stdout",
     "output_type": "stream",
     "text": [
      "Enter the password: HOPE@123\n",
      "Your password is correct\n"
     ]
    }
   ],
   "source": [
    "# Check the password, using if and else\n",
    "pwd=str(input('Enter the password: '))\n",
    "if(pwd=='HOPE@123'):\n",
    "    print('Your password is correct')"
   ]
  },
  {
   "cell_type": "code",
   "execution_count": 19,
   "id": "ff30619c",
   "metadata": {},
   "outputs": [
    {
     "name": "stdout",
     "output_type": "stream",
     "text": [
      "Enter age: -1\n",
      "Enter a valid age\n"
     ]
    }
   ],
   "source": [
    "# Catagory the people by their age like children, adult, citizen, senior citizen...\n",
    "age=int(input('Enter age: '))\n",
    "if age>=1 and age<=18:\n",
    "    print('age: ',age, '\\nChilden')\n",
    "elif age>=19 and age<=55:\n",
    "    print('age: ',age, '\\nAdult')\n",
    "elif age>=56 and age<=70:\n",
    "    print('age: ',age, '\\nCitizen')\n",
    "elif age>=71:\n",
    "    print('age: ',age, '\\nSeniro Citizen')\n",
    "else:\n",
    "    print('Enter a valid age')\n",
    "    "
   ]
  },
  {
   "cell_type": "code",
   "execution_count": 28,
   "id": "b1e525a9",
   "metadata": {
    "scrolled": true
   },
   "outputs": [
    {
     "name": "stdout",
     "output_type": "stream",
     "text": [
      "Enter any number : 2\n",
      "No is Positive\n"
     ]
    }
   ],
   "source": [
    "# Find whether given number is positive or negative\n",
    "number=int(input('Enter any number : '))\n",
    "if number <0:\n",
    "    print('No is Negative')\n",
    "else:\n",
    "    print('No is Positive')"
   ]
  },
  {
   "cell_type": "code",
   "execution_count": 33,
   "id": "d64efad7",
   "metadata": {},
   "outputs": [
    {
     "name": "stdout",
     "output_type": "stream",
     "text": [
      "Enter a number to check: 22\n",
      "No is not divisible by 5\n"
     ]
    }
   ],
   "source": [
    "# Check whether the given number is divisible by 5\n",
    "number=int(input('Enter a number to check: '))\n",
    "if number%5==0:\n",
    "    print('No is divisible by 5')\n",
    "else:\n",
    "    print('No is not divisible by 5')"
   ]
  }
 ],
 "metadata": {
  "kernelspec": {
   "display_name": "Python 3 (ipykernel)",
   "language": "python",
   "name": "python3"
  },
  "language_info": {
   "codemirror_mode": {
    "name": "ipython",
    "version": 3
   },
   "file_extension": ".py",
   "mimetype": "text/x-python",
   "name": "python",
   "nbconvert_exporter": "python",
   "pygments_lexer": "ipython3",
   "version": "3.11.5"
  }
 },
 "nbformat": 4,
 "nbformat_minor": 5
}

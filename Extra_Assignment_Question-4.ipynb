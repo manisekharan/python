{
 "cells": [
  {
   "cell_type": "code",
   "execution_count": 48,
   "id": "48291f7e",
   "metadata": {},
   "outputs": [],
   "source": [
    "# Create a class and function, and list out the items in the list\n",
    "class SubfieldsInAI:\n",
    "    list1=['Machine Learning','Neural Networks','Vision','Robotics','Speech Processing','Natural Language Processing']\n",
    "    \n",
    "    def Subfields(self):\n",
    "        for element in SubfieldsInAI.list1:\n",
    "            print(element)"
   ]
  },
  {
   "cell_type": "code",
   "execution_count": 49,
   "id": "0e64d3df",
   "metadata": {},
   "outputs": [
    {
     "name": "stdout",
     "output_type": "stream",
     "text": [
      "Machine Learning\n",
      "Neural Networks\n",
      "Vision\n",
      "Robotics\n",
      "Speech Processing\n",
      "Natural Language Processing\n"
     ]
    }
   ],
   "source": [
    "SubfieldsInAI().Subfields()"
   ]
  },
  {
   "cell_type": "code",
   "execution_count": 71,
   "id": "83793ea5",
   "metadata": {},
   "outputs": [],
   "source": [
    "# Create a function that checks whether the given number is Odd or Even\n",
    "class OddEven:\n",
    "     \n",
    "    def OddEven():\n",
    "        number=int(input('Enter a number: '))\n",
    "        if number%2==0:\n",
    "            print(str(number) + ' is Even number')\n",
    "        else:\n",
    "            print(str(number) + ' is Odd number')"
   ]
  },
  {
   "cell_type": "code",
   "execution_count": 72,
   "id": "abd3eac3",
   "metadata": {},
   "outputs": [
    {
     "name": "stdout",
     "output_type": "stream",
     "text": [
      "Enter a number: 33\n",
      "33 is Odd number\n"
     ]
    }
   ],
   "source": [
    "OddEven.OddEven()"
   ]
  },
  {
   "cell_type": "code",
   "execution_count": 58,
   "id": "abc973f5",
   "metadata": {},
   "outputs": [],
   "source": [
    "# Create a function that tells elegibility of marriage for male and female according to theircal\n",
    "# age limit like 21 for male and 18 for female"
   ]
  },
  {
   "cell_type": "code",
   "execution_count": 91,
   "id": "efa69970",
   "metadata": {},
   "outputs": [],
   "source": [
    "class ElegiblityForMarriage:\n",
    "    \n",
    "    def Eligible():\n",
    "        gender=input('Your Gender :')\n",
    "        age=int(input('Your Age :'))\n",
    "        if (gender.lower()=='male' and age >=21) or (gender.lower()=='female' and age >=18):\n",
    "            print('ELIGIBLE')\n",
    "        else:\n",
    "            print('NOT ELIGIBLE')   "
   ]
  },
  {
   "cell_type": "code",
   "execution_count": 93,
   "id": "69a135c0",
   "metadata": {},
   "outputs": [
    {
     "name": "stdout",
     "output_type": "stream",
     "text": [
      "Your Gender :jks\n",
      "Your Age :22\n",
      "NOT ELIGIBLE\n"
     ]
    }
   ],
   "source": [
    "ElegiblityForMarriage.Eligible()"
   ]
  },
  {
   "cell_type": "code",
   "execution_count": 107,
   "id": "d5fc687e",
   "metadata": {},
   "outputs": [],
   "source": [
    "# calculate the percentage of your 10th mark\n",
    "class FindPercent:\n",
    "    def percentage():\n",
    "        Subject1= float(input('Subject1 : '))\n",
    "        Subject2= float(input('Subject2 : '))\n",
    "        Subject3= float(input('Subject3 : '))\n",
    "        Subject4= float(input('Subject4 : '))\n",
    "        Subject5= float(input('Subject5 : '))\n",
    "        Total=Subject1+Subject2+Subject3+Subject4+Subject5\n",
    "        print('Total : '+f'{Total:.0f}') \n",
    "        print('Percentage : '+f'{Total/5:.14f}')"
   ]
  },
  {
   "cell_type": "code",
   "execution_count": 108,
   "id": "96196ee4",
   "metadata": {},
   "outputs": [
    {
     "name": "stdout",
     "output_type": "stream",
     "text": [
      "Subject1 : 98\n",
      "Subject2 : 83\n",
      "Subject3 : 95\n",
      "Subject4 : 95\n",
      "Subject5 : 93\n",
      "Total : 464\n",
      "Percentage : 92.80000000000000\n"
     ]
    }
   ],
   "source": [
    "FindPercent.percentage()"
   ]
  }
 ],
 "metadata": {
  "kernelspec": {
   "display_name": "Python 3 (ipykernel)",
   "language": "python",
   "name": "python3"
  },
  "language_info": {
   "codemirror_mode": {
    "name": "ipython",
    "version": 3
   },
   "file_extension": ".py",
   "mimetype": "text/x-python",
   "name": "python",
   "nbconvert_exporter": "python",
   "pygments_lexer": "ipython3",
   "version": "3.11.5"
  }
 },
 "nbformat": 4,
 "nbformat_minor": 5
}
